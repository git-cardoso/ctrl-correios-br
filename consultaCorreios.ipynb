{
 "cells": [
  {
   "cell_type": "code",
   "execution_count": null,
   "metadata": {},
   "outputs": [],
   "source": [
    "import requests\n"
   ]
  },
  {
   "cell_type": "code",
   "execution_count": null,
   "metadata": {},
   "outputs": [],
   "source": [
    "def core(codigo):\n",
    "    s = requests.Session()\n",
    "    data = {\n",
    "        'objetos':codigo,\n",
    "        'btnPesq': '+Buscar'}\n",
    "\n",
    "    s.headers.update({\n",
    "        'Host': 'www2.correios.com.br',\n",
    "        'User-Agent': 'Mozilla/5.0 (X11; Ubuntu; Linux x86_64; rv:56.0) Gecko/20100101 Firefox/56.0',\n",
    "        'Accept': 'text/html,application/xhtml+xml,application/xml;q=0.9,*/*;q=0.8',\n",
    "        'Accept-Language': 'pt-BR,pt;q=0.8,en-US;q=0.5,en;q=0.3',\n",
    "        'Accept-Encoding': 'gzip, deflate',\n",
    "        'Referer': 'http://www2.correios.com.br/sistemas/rastreamento/default.cfm',\n",
    "        'Content-Type': 'application/x-www-form-urlencoded',\n",
    "        'Content-Length': '37',\n",
    "        'Connection': 'keep-alive',\n",
    "        'Upgrade-Insecure-Requests': '1'})\n",
    "\n",
    "    r = s.post('https://www2.correios.com.br/sistemas/rastreamento/resultado.cfm?', data=data, allow_redirects=True)\n",
    "    if r.status_code == 200:\n",
    "        return r.text\n",
    "    else:\n",
    "        return \"Erro\""
   ]
  },
  {
   "cell_type": "code",
   "execution_count": null,
   "metadata": {},
   "outputs": [],
   "source": [
    "output = core(\"PZ984558881BR\")\n",
    "print(output)"
   ]
  }
 ],
 "metadata": {
  "kernelspec": {
   "display_name": "Python 3",
   "language": "python",
   "name": "python3"
  },
  "language_info": {
   "codemirror_mode": {
    "name": "ipython",
    "version": 3
   },
   "file_extension": ".py",
   "mimetype": "text/x-python",
   "name": "python",
   "nbconvert_exporter": "python",
   "pygments_lexer": "ipython3",
   "version": "3.6.9"
  }
 },
 "nbformat": 4,
 "nbformat_minor": 4
}
